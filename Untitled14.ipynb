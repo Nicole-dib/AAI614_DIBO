{
  "nbformat": 4,
  "nbformat_minor": 0,
  "metadata": {
    "colab": {
      "provenance": []
    },
    "kernelspec": {
      "name": "python3",
      "display_name": "Python 3"
    },
    "language_info": {
      "name": "python"
    }
  },
  "cells": [
    {
      "cell_type": "code",
      "execution_count": null,
      "metadata": {
        "id": "E1e_2HKrXt5k"
      },
      "outputs": [],
      "source": [
        "# Simple linear regression example\n",
        "import numpy as np\n",
        "from sklearn.linear_model import LinearRegression\n",
        "\n",
        "# Sample data\n",
        "X = np.array([[1], [2], [3], [4]])\n",
        "y = np.array([2, 3, 5, 7])\n",
        "\n",
        "# Fit the model\n",
        "model = LinearRegression().fit(X, y)\n",
        "print(\"Regression coefficient:\", model.coef_)\n",
        "print(\"Intercept:\", model.intercept_)\n"
      ]
    }
  ]
}